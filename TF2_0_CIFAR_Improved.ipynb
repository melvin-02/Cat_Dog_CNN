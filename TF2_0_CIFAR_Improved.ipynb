{
  "nbformat": 4,
  "nbformat_minor": 0,
  "metadata": {
    "colab": {
      "name": "TF2.0 CIFAR Improved.ipynb",
      "provenance": [],
      "authorship_tag": "ABX9TyO73YtkEc1F2gYL7OA2erY1",
      "include_colab_link": true
    },
    "kernelspec": {
      "name": "python3",
      "display_name": "Python 3"
    },
    "accelerator": "GPU"
  },
  "cells": [
    {
      "cell_type": "markdown",
      "metadata": {
        "id": "view-in-github",
        "colab_type": "text"
      },
      "source": [
        "<a href=\"https://colab.research.google.com/github/melvin-02/Colab-CNN/blob/master/TF2_0_CIFAR_Improved.ipynb\" target=\"_parent\"><img src=\"https://colab.research.google.com/assets/colab-badge.svg\" alt=\"Open In Colab\"/></a>"
      ]
    },
    {
      "cell_type": "code",
      "metadata": {
        "id": "ECQ80IUN4mrP",
        "colab_type": "code",
        "colab": {}
      },
      "source": [
        "import tensorflow as tf\n",
        "import numpy as np\n",
        "import matplotlib.pyplot as plt\n",
        "from tensorflow.keras.layers import Input, Conv2D, Dense, Flatten, Dropout, GlobalMaxPooling2D, MaxPooling2D, BatchNormalization\n",
        "from tensorflow.keras.models import Model"
      ],
      "execution_count": null,
      "outputs": []
    },
    {
      "cell_type": "code",
      "metadata": {
        "id": "KwWHREU57JkP",
        "colab_type": "code",
        "colab": {}
      },
      "source": [
        "cifar10 = tf.keras.datasets.cifar10\n",
        "\n",
        "(X_train, y_train), (X_test, y_test) = cifar10.load_data()"
      ],
      "execution_count": null,
      "outputs": []
    },
    {
      "cell_type": "code",
      "metadata": {
        "id": "tSDdvezu7gcM",
        "colab_type": "code",
        "colab": {}
      },
      "source": [
        "X_train , X_test = X_train/255.0, X_test/255.0\n",
        "y_train, y_test = y_train.flatten(), y_test.flatten()"
      ],
      "execution_count": null,
      "outputs": []
    },
    {
      "cell_type": "code",
      "metadata": {
        "id": "y3V84KmU72g3",
        "colab_type": "code",
        "colab": {
          "base_uri": "https://localhost:8080/",
          "height": 51
        },
        "outputId": "b7aba2f5-7645-456d-b7f3-90572c115c0b"
      },
      "source": [
        "print(X_train.shape)\n",
        "print(y_train.shape)"
      ],
      "execution_count": null,
      "outputs": [
        {
          "output_type": "stream",
          "text": [
            "(50000, 32, 32, 3)\n",
            "(50000,)\n"
          ],
          "name": "stdout"
        }
      ]
    },
    {
      "cell_type": "code",
      "metadata": {
        "id": "wIKsTGZq75pa",
        "colab_type": "code",
        "colab": {
          "base_uri": "https://localhost:8080/",
          "height": 34
        },
        "outputId": "34b6f5f1-50b9-4074-9426-05fd1974f9b2"
      },
      "source": [
        "K = len(set(y_train))\n",
        "K"
      ],
      "execution_count": null,
      "outputs": [
        {
          "output_type": "execute_result",
          "data": {
            "text/plain": [
              "10"
            ]
          },
          "metadata": {
            "tags": []
          },
          "execution_count": 5
        }
      ]
    },
    {
      "cell_type": "code",
      "metadata": {
        "id": "Kl-VnTUx9ow_",
        "colab_type": "code",
        "colab": {}
      },
      "source": [
        "i = Input(shape=X_train[0].shape)\n",
        "x = Conv2D(32, (3,3), padding='same', activation='relu')(i)\n",
        "x = BatchNormalization()(x)\n",
        "x = Conv2D(32, (3,3), padding='same', activation='relu')(x)\n",
        "x = BatchNormalization()(x)\n",
        "x = MaxPooling2D((2, 2))(x)\n",
        "\n",
        "x = Conv2D(64, (3,3), padding='same', activation='relu')(x)\n",
        "x = BatchNormalization()(x)\n",
        "x = Conv2D(64, (3,3), padding='same', activation='relu')(x)\n",
        "x = BatchNormalization()(x)\n",
        "x = MaxPooling2D((2, 2))(x)\n",
        "\n",
        "x = Conv2D(128, (3,3), padding='same', activation='relu')(x)\n",
        "x = BatchNormalization()(x)\n",
        "x = Conv2D(128, (3,3), padding='same', activation='relu')(x)\n",
        "x = BatchNormalization()(x)\n",
        "x = MaxPooling2D((2, 2))(x)\n",
        "\n",
        "x = Flatten()(x)\n",
        "x = Dropout(0.2)(x)\n",
        "x = Dense(1024, activation='relu')(x)\n",
        "x = Dropout(0.2)(x)\n",
        "x = Dense(K, activation='softmax')(x)\n",
        "\n",
        "model = Model(i, x)\n"
      ],
      "execution_count": null,
      "outputs": []
    },
    {
      "cell_type": "code",
      "metadata": {
        "id": "ZLLvhXqWAu9X",
        "colab_type": "code",
        "colab": {}
      },
      "source": [
        "model.compile(optimizer='adam',\n",
        "              loss='sparse_categorical_crossentropy',\n",
        "              metrics=['accuracy'])"
      ],
      "execution_count": null,
      "outputs": []
    },
    {
      "cell_type": "code",
      "metadata": {
        "id": "v-YwCgE0BgzW",
        "colab_type": "code",
        "colab": {}
      },
      "source": [
        "# model.fit(X_train, y_train, epochs =50 , validation_data=(X_test, y_test))"
      ],
      "execution_count": null,
      "outputs": []
    },
    {
      "cell_type": "code",
      "metadata": {
        "id": "UU-74ydABwGe",
        "colab_type": "code",
        "colab": {
          "base_uri": "https://localhost:8080/",
          "height": 1000
        },
        "outputId": "70ebced7-44e8-4e2f-ee79-3570daf1b48f"
      },
      "source": [
        "batch_size = 32\n",
        "data_generator = tf.keras.preprocessing.image.ImageDataGenerator(width_shift_range=0.1, height_shift_range=0.1, horizontal_flip=True)\n",
        "train_generator = data_generator.flow(X_train, y_train, batch_size)\n",
        "steps_per_epoch = 1562\n",
        "r = model.fit_generator(train_generator, steps_per_epoch=steps_per_epoch, validation_data=(X_test, y_test), epochs=50)\n"
      ],
      "execution_count": null,
      "outputs": [
        {
          "output_type": "stream",
          "text": [
            "WARNING:tensorflow:From <ipython-input-9-56398a1eddc7>:5: Model.fit_generator (from tensorflow.python.keras.engine.training) is deprecated and will be removed in a future version.\n",
            "Instructions for updating:\n",
            "Please use Model.fit, which supports generators.\n",
            "Epoch 1/50\n",
            "1562/1562 [==============================] - 46s 29ms/step - loss: 1.3821 - accuracy: 0.5181 - val_loss: 1.0179 - val_accuracy: 0.6438\n",
            "Epoch 2/50\n",
            "1562/1562 [==============================] - 46s 29ms/step - loss: 0.9944 - accuracy: 0.6536 - val_loss: 0.9744 - val_accuracy: 0.6765\n",
            "Epoch 3/50\n",
            "1562/1562 [==============================] - 46s 29ms/step - loss: 0.8431 - accuracy: 0.7096 - val_loss: 0.7679 - val_accuracy: 0.7361\n",
            "Epoch 4/50\n",
            "1562/1562 [==============================] - 46s 29ms/step - loss: 0.7548 - accuracy: 0.7426 - val_loss: 0.7443 - val_accuracy: 0.7511\n",
            "Epoch 5/50\n",
            "1562/1562 [==============================] - 46s 29ms/step - loss: 0.6816 - accuracy: 0.7670 - val_loss: 0.6723 - val_accuracy: 0.7773\n",
            "Epoch 6/50\n",
            "1562/1562 [==============================] - 46s 29ms/step - loss: 0.6306 - accuracy: 0.7849 - val_loss: 0.5706 - val_accuracy: 0.8075\n",
            "Epoch 7/50\n",
            "1562/1562 [==============================] - 46s 29ms/step - loss: 0.5868 - accuracy: 0.7992 - val_loss: 0.7023 - val_accuracy: 0.7771\n",
            "Epoch 8/50\n",
            "1562/1562 [==============================] - 46s 29ms/step - loss: 0.5476 - accuracy: 0.8130 - val_loss: 0.5158 - val_accuracy: 0.8302\n",
            "Epoch 9/50\n",
            "1562/1562 [==============================] - 47s 30ms/step - loss: 0.5141 - accuracy: 0.8246 - val_loss: 0.5580 - val_accuracy: 0.8146\n",
            "Epoch 10/50\n",
            "1562/1562 [==============================] - 46s 29ms/step - loss: 0.4897 - accuracy: 0.8333 - val_loss: 0.5659 - val_accuracy: 0.8130\n",
            "Epoch 11/50\n",
            "1562/1562 [==============================] - 46s 30ms/step - loss: 0.4616 - accuracy: 0.8428 - val_loss: 0.5563 - val_accuracy: 0.8145\n",
            "Epoch 12/50\n",
            "1562/1562 [==============================] - 46s 30ms/step - loss: 0.4394 - accuracy: 0.8498 - val_loss: 0.4812 - val_accuracy: 0.8419\n",
            "Epoch 13/50\n",
            "1562/1562 [==============================] - 46s 30ms/step - loss: 0.4187 - accuracy: 0.8571 - val_loss: 0.4379 - val_accuracy: 0.8525\n",
            "Epoch 14/50\n",
            "1562/1562 [==============================] - 46s 30ms/step - loss: 0.4034 - accuracy: 0.8626 - val_loss: 0.4944 - val_accuracy: 0.8360\n",
            "Epoch 15/50\n",
            "1562/1562 [==============================] - 46s 30ms/step - loss: 0.3872 - accuracy: 0.8676 - val_loss: 0.5076 - val_accuracy: 0.8349\n",
            "Epoch 16/50\n",
            "1562/1562 [==============================] - 46s 30ms/step - loss: 0.3705 - accuracy: 0.8739 - val_loss: 0.5734 - val_accuracy: 0.8170\n",
            "Epoch 17/50\n",
            "1562/1562 [==============================] - 46s 30ms/step - loss: 0.3566 - accuracy: 0.8778 - val_loss: 0.4567 - val_accuracy: 0.8528\n",
            "Epoch 18/50\n",
            "1562/1562 [==============================] - 46s 30ms/step - loss: 0.3468 - accuracy: 0.8829 - val_loss: 0.4168 - val_accuracy: 0.8626\n",
            "Epoch 19/50\n",
            "1562/1562 [==============================] - 46s 30ms/step - loss: 0.3346 - accuracy: 0.8843 - val_loss: 0.4473 - val_accuracy: 0.8556\n",
            "Epoch 20/50\n",
            "1562/1562 [==============================] - 46s 30ms/step - loss: 0.3248 - accuracy: 0.8878 - val_loss: 0.4274 - val_accuracy: 0.8598\n",
            "Epoch 21/50\n",
            "1562/1562 [==============================] - 46s 30ms/step - loss: 0.3181 - accuracy: 0.8907 - val_loss: 0.4286 - val_accuracy: 0.8603\n",
            "Epoch 22/50\n",
            "1562/1562 [==============================] - 47s 30ms/step - loss: 0.3069 - accuracy: 0.8953 - val_loss: 0.4144 - val_accuracy: 0.8677\n",
            "Epoch 23/50\n",
            "1562/1562 [==============================] - 46s 30ms/step - loss: 0.3025 - accuracy: 0.8961 - val_loss: 0.4549 - val_accuracy: 0.8594\n",
            "Epoch 24/50\n",
            "1562/1562 [==============================] - 46s 30ms/step - loss: 0.2875 - accuracy: 0.9009 - val_loss: 0.4170 - val_accuracy: 0.8651\n",
            "Epoch 25/50\n",
            "1562/1562 [==============================] - 46s 30ms/step - loss: 0.2798 - accuracy: 0.9036 - val_loss: 0.4291 - val_accuracy: 0.8651\n",
            "Epoch 26/50\n",
            "1562/1562 [==============================] - 46s 30ms/step - loss: 0.2791 - accuracy: 0.9037 - val_loss: 0.3825 - val_accuracy: 0.8827\n",
            "Epoch 27/50\n",
            "1562/1562 [==============================] - 46s 29ms/step - loss: 0.2681 - accuracy: 0.9071 - val_loss: 0.4243 - val_accuracy: 0.8654\n",
            "Epoch 28/50\n",
            "1562/1562 [==============================] - 46s 30ms/step - loss: 0.2671 - accuracy: 0.9080 - val_loss: 0.4020 - val_accuracy: 0.8759\n",
            "Epoch 29/50\n",
            "1562/1562 [==============================] - 47s 30ms/step - loss: 0.2552 - accuracy: 0.9112 - val_loss: 0.3911 - val_accuracy: 0.8738\n",
            "Epoch 30/50\n",
            "1562/1562 [==============================] - 47s 30ms/step - loss: 0.2575 - accuracy: 0.9120 - val_loss: 0.4136 - val_accuracy: 0.8730\n",
            "Epoch 31/50\n",
            "1562/1562 [==============================] - 46s 30ms/step - loss: 0.2442 - accuracy: 0.9155 - val_loss: 0.4318 - val_accuracy: 0.8714\n",
            "Epoch 32/50\n",
            "1562/1562 [==============================] - 47s 30ms/step - loss: 0.2428 - accuracy: 0.9168 - val_loss: 0.4438 - val_accuracy: 0.8706\n",
            "Epoch 33/50\n",
            "1562/1562 [==============================] - 46s 30ms/step - loss: 0.2328 - accuracy: 0.9196 - val_loss: 0.4177 - val_accuracy: 0.8731\n",
            "Epoch 34/50\n",
            "1562/1562 [==============================] - 47s 30ms/step - loss: 0.2349 - accuracy: 0.9188 - val_loss: 0.4001 - val_accuracy: 0.8751\n",
            "Epoch 35/50\n",
            "1562/1562 [==============================] - 47s 30ms/step - loss: 0.2283 - accuracy: 0.9217 - val_loss: 0.3719 - val_accuracy: 0.8873\n",
            "Epoch 36/50\n",
            "1562/1562 [==============================] - 47s 30ms/step - loss: 0.2230 - accuracy: 0.9228 - val_loss: 0.3651 - val_accuracy: 0.8851\n",
            "Epoch 37/50\n",
            "1562/1562 [==============================] - 47s 30ms/step - loss: 0.2220 - accuracy: 0.9235 - val_loss: 0.3880 - val_accuracy: 0.8794\n",
            "Epoch 38/50\n",
            "1562/1562 [==============================] - 47s 30ms/step - loss: 0.2203 - accuracy: 0.9233 - val_loss: 0.4224 - val_accuracy: 0.8773\n",
            "Epoch 39/50\n",
            "1562/1562 [==============================] - 47s 30ms/step - loss: 0.2150 - accuracy: 0.9256 - val_loss: 0.3861 - val_accuracy: 0.8799\n",
            "Epoch 40/50\n",
            "1562/1562 [==============================] - 47s 30ms/step - loss: 0.2073 - accuracy: 0.9281 - val_loss: 0.4126 - val_accuracy: 0.8777\n",
            "Epoch 41/50\n",
            "1562/1562 [==============================] - 47s 30ms/step - loss: 0.2089 - accuracy: 0.9277 - val_loss: 0.4118 - val_accuracy: 0.8719\n",
            "Epoch 42/50\n",
            "1562/1562 [==============================] - 47s 30ms/step - loss: 0.2068 - accuracy: 0.9297 - val_loss: 0.4235 - val_accuracy: 0.8780\n",
            "Epoch 43/50\n",
            "1562/1562 [==============================] - 47s 30ms/step - loss: 0.2032 - accuracy: 0.9305 - val_loss: 0.4413 - val_accuracy: 0.8719\n",
            "Epoch 44/50\n",
            "1562/1562 [==============================] - 47s 30ms/step - loss: 0.1989 - accuracy: 0.9323 - val_loss: 0.4078 - val_accuracy: 0.8814\n",
            "Epoch 45/50\n",
            "1562/1562 [==============================] - 47s 30ms/step - loss: 0.1905 - accuracy: 0.9339 - val_loss: 0.4043 - val_accuracy: 0.8849\n",
            "Epoch 46/50\n",
            "1562/1562 [==============================] - 46s 30ms/step - loss: 0.1929 - accuracy: 0.9341 - val_loss: 0.4330 - val_accuracy: 0.8815\n",
            "Epoch 47/50\n",
            "1562/1562 [==============================] - 47s 30ms/step - loss: 0.1897 - accuracy: 0.9353 - val_loss: 0.4012 - val_accuracy: 0.8826\n",
            "Epoch 48/50\n",
            "1562/1562 [==============================] - 47s 30ms/step - loss: 0.1850 - accuracy: 0.9362 - val_loss: 0.3984 - val_accuracy: 0.8899\n",
            "Epoch 49/50\n",
            "1562/1562 [==============================] - 47s 30ms/step - loss: 0.1838 - accuracy: 0.9381 - val_loss: 0.4751 - val_accuracy: 0.8720\n",
            "Epoch 50/50\n",
            "1562/1562 [==============================] - 47s 30ms/step - loss: 0.1857 - accuracy: 0.9361 - val_loss: 0.4073 - val_accuracy: 0.8833\n"
          ],
          "name": "stdout"
        }
      ]
    },
    {
      "cell_type": "code",
      "metadata": {
        "id": "BxFPvc9tLa16",
        "colab_type": "code",
        "colab": {
          "base_uri": "https://localhost:8080/",
          "height": 282
        },
        "outputId": "4c4009dd-ae8a-499e-b162-fdc63c527d28"
      },
      "source": [
        "plt.plot(r.history['loss'], label='loss')\n",
        "plt.plot(r.history['val_loss'], label='val_loss')\n",
        "plt.legend()"
      ],
      "execution_count": null,
      "outputs": [
        {
          "output_type": "execute_result",
          "data": {
            "text/plain": [
              "<matplotlib.legend.Legend at 0x7fed075fe048>"
            ]
          },
          "metadata": {
            "tags": []
          },
          "execution_count": 10
        },
        {
          "output_type": "display_data",
          "data": {
            "image/png": "[encoded data removed]",
            "text/plain": [
              "<Figure size 432x288 with 1 Axes>"
            ]
          },
          "metadata": {
            "tags": [],
            "needs_background": "light"
          }
        }
      ]
    },
    {
      "cell_type": "code",
      "metadata": {
        "id": "_dP9EBN9Z2xO",
        "colab_type": "code",
        "colab": {
          "base_uri": "https://localhost:8080/",
          "height": 282
        },
        "outputId": "212e8c6a-e214-4451-b3f9-4412c9d8f873"
      },
      "source": [
        "plt.plot(r.history['accuracy'], label='acc')\n",
        "plt.plot(r.history['val_accuracy'], label='val_acc')\n",
        "plt.legend()"
      ],
      "execution_count": null,
      "outputs": [
        {
          "output_type": "execute_result",
          "data": {
            "text/plain": [
              "<matplotlib.legend.Legend at 0x7fed065abe48>"
            ]
          },
          "metadata": {
            "tags": []
          },
          "execution_count": 11
        },
        {
          "output_type": "display_data",
          "data": {
            "image/png": "[encoded data removed]",
            "text/plain": [
              "<Figure size 432x288 with 1 Axes>"
            ]
          },
          "metadata": {
            "tags": [],
            "needs_background": "light"
          }
        }
      ]
    },
    {
      "cell_type": "code",
      "metadata": {
        "id": "y2KQTQAqZ44E",
        "colab_type": "code",
        "colab": {
          "base_uri": "https://localhost:8080/",
          "height": 498
        },
        "outputId": "6eaac825-608a-4292-e5ba-fd975894336f"
      },
      "source": [
        "# Plot confusion matrix\n",
        "from sklearn.metrics import confusion_matrix\n",
        "import itertools\n",
        "\n",
        "def plot_confusion_matrix(cm, classes,\n",
        "                          normalize=False,\n",
        "                          title='Confusion matrix',\n",
        "                          cmap=plt.cm.Blues):\n",
        "  \"\"\"\n",
        "  This function prints and plots the confusion matrix.\n",
        "  Normalization can be applied by setting `normalize=True`.\n",
        "  \"\"\"\n",
        "  if normalize:\n",
        "      cm = cm.astype('float') / cm.sum(axis=1)[:, np.newaxis]\n",
        "      print(\"Normalized confusion matrix\")\n",
        "  else:\n",
        "      print('Confusion matrix, without normalization')\n",
        "\n",
        "  print(cm)\n",
        "\n",
        "  plt.imshow(cm, interpolation='nearest', cmap=cmap)\n",
        "  plt.title(title)\n",
        "  plt.colorbar()\n",
        "  tick_marks = np.arange(len(classes))\n",
        "  plt.xticks(tick_marks, classes, rotation=45)\n",
        "  plt.yticks(tick_marks, classes)\n",
        "\n",
        "  fmt = '.2f' if normalize else 'd'\n",
        "  thresh = cm.max() / 2.\n",
        "  for i, j in itertools.product(range(cm.shape[0]), range(cm.shape[1])):\n",
        "      plt.text(j, i, format(cm[i, j], fmt),\n",
        "               horizontalalignment=\"center\",\n",
        "               color=\"white\" if cm[i, j] > thresh else \"black\")\n",
        "\n",
        "  plt.tight_layout()\n",
        "  plt.ylabel('True label')\n",
        "  plt.xlabel('Predicted label')\n",
        "  plt.show()\n",
        "\n",
        "\n",
        "p_test = model.predict(X_test).argmax(axis=1)\n",
        "cm = confusion_matrix(y_test, p_test)\n",
        "plot_confusion_matrix(cm, list(range(10)))\n",
        "\n"
      ],
      "execution_count": null,
      "outputs": [
        {
          "output_type": "stream",
          "text": [
            "Confusion matrix, without normalization\n",
            "[[910  10   5  11   5   4   3   3  32  17]\n",
            " [  4 950   1   2   1   1   1   0   8  32]\n",
            " [ 44   1 776  44  34  37  51   5   5   3]\n",
            " [ 10   6  10 815  16  74  44  10   3  12]\n",
            " [  7   2  16  40 858  29  25  21   1   1]\n",
            " [  6   3  11 107  19 814  20  13   3   4]\n",
            " [  3   0   8  20   3   5 957   0   2   2]\n",
            " [  7   1   7  28  22  26   8 895   3   3]\n",
            " [ 26  11   1   8   2   0   6   2 925  19]\n",
            " [  7  41   2   2   2   0   3   1   9 933]]\n"
          ],
          "name": "stdout"
        },
        {
          "output_type": "display_data",
          "data": {
            "image/png": "[encoded data removed]",
            "text/plain": [
              "<Figure size 432x288 with 2 Axes>"
            ]
          },
          "metadata": {
            "tags": [],
            "needs_background": "light"
          }
        }
      ]
    },
    {
      "cell_type": "code",
      "metadata": {
        "id": "PEocUBYYZ8M8",
        "colab_type": "code",
        "colab": {}
      },
      "source": [
        "# label mapping\n",
        "labels = '''airplane\n",
        "automobile\n",
        "bird\n",
        "cat\n",
        "deer\n",
        "dog\n",
        "frog\n",
        "horse\n",
        "ship\n",
        "truck'''.split()"
      ],
      "execution_count": null,
      "outputs": []
    },
    {
      "cell_type": "code",
      "metadata": {
        "id": "CzrC6pScZ_Rf",
        "colab_type": "code",
        "colab": {
          "base_uri": "https://localhost:8080/",
          "height": 281
        },
        "outputId": "6c6c96cf-e528-454b-e9f2-df56d1bebd3e"
      },
      "source": [
        "# Show some misclassified examples\n",
        "misclassified_idx = np.where(p_test != y_test)[0]\n",
        "i = np.random.choice(misclassified_idx)\n",
        "plt.imshow(X_test[i], cmap='gray')\n",
        "plt.title(\"True label: %s Predicted: %s\" % (labels[y_test[i]], labels[p_test[i]]));"
      ],
      "execution_count": null,
      "outputs": [
        {
          "output_type": "display_data",
          "data": {
            "image/png": "[encoded data removed]",
            "text/plain": [
              "<Figure size 432x288 with 1 Axes>"
            ]
          },
          "metadata": {
            "tags": [],
            "needs_background": "light"
          }
        }
      ]
    },
    {
      "cell_type": "code",
      "metadata": {
        "id": "bk6EB3__aBxM",
        "colab_type": "code",
        "colab": {
          "base_uri": "https://localhost:8080/",
          "height": 867
        },
        "outputId": "8ad46be9-d4fe-4f44-f3d6-75eae91509e4"
      },
      "source": [
        "model.summary()"
      ],
      "execution_count": null,
      "outputs": [
        {
          "output_type": "stream",
          "text": [
            "Model: \"model\"\n",
            "_________________________________________________________________\n",
            "Layer (type)                 Output Shape              Param #   \n",
            "=================================================================\n",
            "input_1 (InputLayer)         [(None, 32, 32, 3)]       0         \n",
            "_________________________________________________________________\n",
            "conv2d (Conv2D)              (None, 32, 32, 32)        896       \n",
            "_________________________________________________________________\n",
            "batch_normalization (BatchNo (None, 32, 32, 32)        128       \n",
            "_________________________________________________________________\n",
            "conv2d_1 (Conv2D)            (None, 32, 32, 32)        9248      \n",
            "_________________________________________________________________\n",
            "batch_normalization_1 (Batch (None, 32, 32, 32)        128       \n",
            "_________________________________________________________________\n",
            "max_pooling2d (MaxPooling2D) (None, 16, 16, 32)        0         \n",
            "_________________________________________________________________\n",
            "conv2d_2 (Conv2D)            (None, 16, 16, 64)        18496     \n",
            "_________________________________________________________________\n",
            "batch_normalization_2 (Batch (None, 16, 16, 64)        256       \n",
            "_________________________________________________________________\n",
            "conv2d_3 (Conv2D)            (None, 16, 16, 64)        36928     \n",
            "_________________________________________________________________\n",
            "batch_normalization_3 (Batch (None, 16, 16, 64)        256       \n",
            "_________________________________________________________________\n",
            "max_pooling2d_1 (MaxPooling2 (None, 8, 8, 64)          0         \n",
            "_________________________________________________________________\n",
            "conv2d_4 (Conv2D)            (None, 8, 8, 128)         73856     \n",
            "_________________________________________________________________\n",
            "batch_normalization_4 (Batch (None, 8, 8, 128)         512       \n",
            "_________________________________________________________________\n",
            "conv2d_5 (Conv2D)            (None, 8, 8, 128)         147584    \n",
            "_________________________________________________________________\n",
            "batch_normalization_5 (Batch (None, 8, 8, 128)         512       \n",
            "_________________________________________________________________\n",
            "max_pooling2d_2 (MaxPooling2 (None, 4, 4, 128)         0         \n",
            "_________________________________________________________________\n",
            "flatten (Flatten)            (None, 2048)              0         \n",
            "_________________________________________________________________\n",
            "dropout (Dropout)            (None, 2048)              0         \n",
            "_________________________________________________________________\n",
            "dense (Dense)                (None, 1024)              2098176   \n",
            "_________________________________________________________________\n",
            "dropout_1 (Dropout)          (None, 1024)              0         \n",
            "_________________________________________________________________\n",
            "dense_1 (Dense)              (None, 10)                10250     \n",
            "=================================================================\n",
            "Total params: 2,397,226\n",
            "Trainable params: 2,396,330\n",
            "Non-trainable params: 896\n",
            "_________________________________________________________________\n"
          ],
          "name": "stdout"
        }
      ]
    },
    {
      "cell_type": "code",
      "metadata": {
        "id": "ajPSeiLHaf7U",
        "colab_type": "code",
        "colab": {}
      },
      "source": [
        ""
      ],
      "execution_count": null,
      "outputs": []
    }
  ]
}